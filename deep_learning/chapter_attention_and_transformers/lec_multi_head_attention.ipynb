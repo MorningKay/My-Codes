{
 "cells": [
  {
   "metadata": {},
   "cell_type": "markdown",
   "source": [
    "# 多头注意力\n",
    "在实践中，当给定相同的查询、键和值的集合时， 我们希望模型可以基于相同的注意力机制学习到不同的行为， 然后将不同的行为作为知识组合起来， 捕获序列内各种范围的依赖关系 （例如，短距离依赖和长距离依赖关系）。 因此，允许注意力机制组合使用查询、键和值的不同 子空间表示（representation subspaces）可能是有益的。\n",
    "\n",
    "为此，与其只使用单独一个注意力汇聚， 我们可以用独立学习得到的$h$组不同的 线性投影（linear projections）来变换查询、键和值。 然后，这$h$组变换后的查询、键和值将并行地送到注意力汇聚中。 最后，将这$h$个注意力汇聚的输出拼接在一起， 并且通过另一个可以学习的线性投影进行变换， 以产生最终输出。 这种设计被称为多头注意力（multihead attention） ([Vaswani et al., 2017](https://zh-v2.d2l.ai/chapter_references/zreferences.html#id174))。 对于$h$个注意力汇聚输出，每一个注意力汇聚都被称作一个头（head）。 下图 展示了使用全连接层来实现可学习的线性变换的多头注意力。\n",
    "\n",
    "<center>\n",
    "    <figure>\n",
    "        <img src=\"https://zh-v2.d2l.ai/_images/multi-head-attention.svg\" alt=\"seq2seq_attention_details\" />\n",
    "            <figcaption> 图1：多头注意力：多个头连结然后线性变换</figcaption>\n",
    "    </figure>\n",
    "</center>\n",
    "\n",
    "## 模型\n",
    "在实现多头注意力之前，让我们用数学语言将这个模型形式化地描述出来。 给定查询$\\mathbf{q}\\in\\mathbb{R}^{d_q}$、 键$\\mathbf{k}\\in\\mathbb{R}^{d_k}$和 值$\\mathbf{v}\\in\\mathbb{R}^{d_v}$， 每个注意力头$\\mathbf{h}_i$（$i=1,\\ldots,h$）的计算方法为：\n",
    "$$\n",
    "h_i=f(\\mathbf{W}_i^{(q)}\\mathbf{q},\\mathbf{W}_i^{(k)}\\mathbf{k},\\mathbf{W}_i^{(v)}\\mathbf{v})\\in\\mathbb{R}^{p_v}\n",
    "$$\n",
    "\n",
    "其中，可学习的参数包括$\\mathbf{W}_i^{(q)}\\in\\mathbb{R}^{p_q\\times d_q}$、$\\mathbf{W}_i^{(k)}\\in\\mathbb{R}^{p_k\\times d_k}$ 和 $\\mathbf{W}_i^{(v)}\\in\\mathbb{R}^{p_v\\times d_v}$， 以及代表注意力汇聚的函数$f$。 $f$可以是 10.3节中的 加性注意力和缩放点积注意力。 多头注意力的输出需要经过另一个线性转换， 它对应着$h$个头连结后的结果，因此其可学习参数是 $\\mathbf{W}_o\\in\\mathbb{R}_{p_o\\times hp_v}$：\n",
    "$$\n",
    "W_o\n",
    "\\begin{bmatrix}\n",
    "    h_1\\\\\n",
    "    \\vdots\\\\\n",
    "    h_h\n",
    "\\end{bmatrix}\n",
    "\\in \\mathbb{R}^{p_o}\n",
    "$$\n",
    "\n",
    "基于这种设计，每个头都可能会关注输入的不同部分， 可以表示比简单加权平均值更复杂的函数。"
   ],
   "id": "8e7479830d8c9c98"
  },
  {
   "metadata": {
    "ExecuteTime": {
     "end_time": "2025-03-02T07:18:35.852420Z",
     "start_time": "2025-03-02T07:18:35.821428Z"
    }
   },
   "cell_type": "code",
   "source": [
    "import math\n",
    "import torch\n",
    "from torch import nn\n",
    "from d2l import torch as d2l"
   ],
   "id": "85e131079c97bb47",
   "outputs": [],
   "execution_count": 6
  },
  {
   "metadata": {},
   "cell_type": "markdown",
   "source": [
    "## 实现\n",
    "在实现过程中通常选择缩放点积注意力作为每一个注意力头。 为了避免计算代价和参数代价的大幅增长， 我们设定$p_q=p_k=p_v=p_o/h$。 值得注意的是，如果将查询、键和值的线性变换的输出数量设置为 $p_q h=p_k h=p_v h=p_o$， 则可以并行计算$h$个头。 在下面的实现中，$p_o$是通过参数`num_hiddens`指定的。"
   ],
   "id": "2782a961fd8ed057"
  },
  {
   "metadata": {
    "ExecuteTime": {
     "end_time": "2025-03-02T07:18:35.883551Z",
     "start_time": "2025-03-02T07:18:35.862168Z"
    }
   },
   "cell_type": "code",
   "source": [
    "#@save\n",
    "class MultiHeadAttention(nn.Module):\n",
    "    \"\"\"多头注意力\"\"\"\n",
    "    def __init__(self, key_size, query_size, value_size, num_hiddens,\n",
    "                 num_heads, dropout, bias=False, **kwargs):\n",
    "        super(MultiHeadAttention, self).__init__(**kwargs)\n",
    "        self.num_heads = num_heads\n",
    "        self.attention = d2l.DotProductAttention(dropout)\n",
    "        self.W_q = nn.Linear(query_size, num_hiddens, bias=bias)\n",
    "        self.W_k = nn.Linear(key_size, num_hiddens, bias=bias)\n",
    "        self.W_v = nn.Linear(value_size, num_hiddens, bias=bias)\n",
    "        self.W_o = nn.Linear(num_hiddens, num_hiddens, bias=bias)\n",
    "\n",
    "    def forward(self, queries, keys, values, valid_lens):\n",
    "        # queries，keys，values的形状:\n",
    "        # (batch_size，查询或者“键－值”对的个数，num_hiddens)\n",
    "        # valid_lens　的形状:\n",
    "        # (batch_size，)或(batch_size，查询的个数)\n",
    "        # 经过变换后，输出的queries，keys，values　的形状:\n",
    "        # (batch_size*num_heads，查询或者“键－值”对的个数，\n",
    "        # num_hiddens/num_heads)\n",
    "        queries = transpose_qkv(self.W_q(queries), self.num_heads)\n",
    "        keys = transpose_qkv(self.W_k(keys), self.num_heads)\n",
    "        values = transpose_qkv(self.W_v(values), self.num_heads)\n",
    "\n",
    "        if valid_lens is not None:\n",
    "            # 在轴0，将第一项（标量或者矢量）复制num_heads次，\n",
    "            # 然后如此复制第二项，然后诸如此类。\n",
    "            valid_lens = torch.repeat_interleave(\n",
    "                valid_lens, repeats=self.num_heads, dim=0)\n",
    "\n",
    "        # output的形状:(batch_size*num_heads，查询的个数，\n",
    "        # num_hiddens/num_heads)\n",
    "        output = self.attention(queries, keys, values, valid_lens)\n",
    "\n",
    "        # output_concat的形状:(batch_size，查询的个数，num_hiddens)\n",
    "        output_concat = transpose_output(output, self.num_heads)\n",
    "        return self.W_o(output_concat)"
   ],
   "id": "b22996f280a92c5c",
   "outputs": [],
   "execution_count": 7
  },
  {
   "metadata": {},
   "cell_type": "markdown",
   "source": "为了能够使多个头并行计算， 上面的MultiHeadAttention类将使用下面定义的两个转置函数。 具体来说，transpose_output函数反转了transpose_qkv函数的操作。",
   "id": "e6cc257a84d44d7"
  },
  {
   "metadata": {
    "ExecuteTime": {
     "end_time": "2025-03-02T07:18:35.930732Z",
     "start_time": "2025-03-02T07:18:35.916921Z"
    }
   },
   "cell_type": "code",
   "source": [
    "#@save\n",
    "def transpose_qkv(X, num_heads):\n",
    "    \"\"\"为了多注意力头的并行计算而变换形状\"\"\"\n",
    "    # 输入X的形状:(batch_size，查询或者“键－值”对的个数，num_hiddens)\n",
    "    # 输出X的形状:(batch_size，查询或者“键－值”对的个数，num_heads，\n",
    "    # num_hiddens/num_heads)\n",
    "    X = X.reshape(X.shape[0], X.shape[1], num_heads, -1)\n",
    "\n",
    "    # 输出X的形状:(batch_size，num_heads，查询或者“键－值”对的个数,\n",
    "    # num_hiddens/num_heads)\n",
    "    X = X.permute(0, 2, 1, 3)\n",
    "\n",
    "    # 最终输出的形状:(batch_size*num_heads,查询或者“键－值”对的个数,\n",
    "    # num_hiddens/num_heads)\n",
    "    return X.reshape(-1, X.shape[2], X.shape[3])\n",
    "\n",
    "\n",
    "#@save\n",
    "def transpose_output(X, num_heads):\n",
    "    \"\"\"逆转transpose_qkv函数的操作\"\"\"\n",
    "    X = X.reshape(-1, num_heads, X.shape[1], X.shape[2])\n",
    "    X = X.permute(0, 2, 1, 3)\n",
    "    return X.reshape(X.shape[0], X.shape[1], -1)"
   ],
   "id": "a648d2c2e3515747",
   "outputs": [],
   "execution_count": 8
  },
  {
   "metadata": {},
   "cell_type": "markdown",
   "source": "下面使用键和值相同的小例子来测试我们编写的MultiHeadAttention类。 多头注意力输出的形状是（batch_size，num_queries，num_hiddens）。",
   "id": "1738ac7fb00ca8f5"
  },
  {
   "metadata": {
    "ExecuteTime": {
     "end_time": "2025-03-02T07:18:35.978661Z",
     "start_time": "2025-03-02T07:18:35.964609Z"
    }
   },
   "cell_type": "code",
   "source": [
    "num_hiddens, num_heads = 100, 5\n",
    "attention = MultiHeadAttention(num_hiddens, num_hiddens, num_hiddens,\n",
    "                               num_hiddens, num_heads, 0.5)\n",
    "attention.eval()"
   ],
   "id": "cd25072fa253d55a",
   "outputs": [
    {
     "data": {
      "text/plain": [
       "MultiHeadAttention(\n",
       "  (attention): DotProductAttention(\n",
       "    (dropout): Dropout(p=0.5, inplace=False)\n",
       "  )\n",
       "  (W_q): Linear(in_features=100, out_features=100, bias=False)\n",
       "  (W_k): Linear(in_features=100, out_features=100, bias=False)\n",
       "  (W_v): Linear(in_features=100, out_features=100, bias=False)\n",
       "  (W_o): Linear(in_features=100, out_features=100, bias=False)\n",
       ")"
      ]
     },
     "execution_count": 9,
     "metadata": {},
     "output_type": "execute_result"
    }
   ],
   "execution_count": 9
  },
  {
   "metadata": {
    "ExecuteTime": {
     "end_time": "2025-03-02T07:18:36.025484Z",
     "start_time": "2025-03-02T07:18:36.012214Z"
    }
   },
   "cell_type": "code",
   "source": [
    "batch_size, num_queries = 2, 4\n",
    "num_kvpairs, valid_lens =  6, torch.tensor([3, 2])\n",
    "X = torch.ones((batch_size, num_queries, num_hiddens))\n",
    "Y = torch.ones((batch_size, num_kvpairs, num_hiddens))\n",
    "attention(X, Y, Y, valid_lens).shape"
   ],
   "id": "ecd0055d8c193efe",
   "outputs": [
    {
     "data": {
      "text/plain": [
       "torch.Size([2, 4, 100])"
      ]
     },
     "execution_count": 10,
     "metadata": {},
     "output_type": "execute_result"
    }
   ],
   "execution_count": 10
  }
 ],
 "metadata": {
  "kernelspec": {
   "display_name": "Python 3",
   "language": "python",
   "name": "python3"
  },
  "language_info": {
   "codemirror_mode": {
    "name": "ipython",
    "version": 2
   },
   "file_extension": ".py",
   "mimetype": "text/x-python",
   "name": "python",
   "nbconvert_exporter": "python",
   "pygments_lexer": "ipython2",
   "version": "2.7.6"
  }
 },
 "nbformat": 4,
 "nbformat_minor": 5
}
